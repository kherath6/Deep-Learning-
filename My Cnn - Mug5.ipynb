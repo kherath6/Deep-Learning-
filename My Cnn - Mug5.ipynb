{
 "cells": [
  {
   "cell_type": "code",
   "execution_count": 41,
   "metadata": {},
   "outputs": [],
   "source": [
    "import pandas as pd\n",
    "import numpy as np\n",
    "import matplotlib.pyplot as plt\n",
    "import keras\n",
    "import cv2\n",
    "\n",
    "from skimage.transform import resize\n",
    "\n",
    "from keras.preprocessing.image import img_to_array, load_img\n",
    "from keras import Sequential\n",
    "from keras.layers import Conv2D, Dropout, MaxPool2D, Activation, Flatten, Dense\n",
    "from keras.preprocessing.image import ImageDataGenerator\n",
    "from keras.utils import to_categorical\n",
    "\n",
    "import os\n",
    "import random\n",
    "\n",
    "%matplotlib inline"
   ]
  },
  {
   "cell_type": "code",
   "execution_count": null,
   "metadata": {},
   "outputs": [],
   "source": []
  },
  {
   "cell_type": "markdown",
   "metadata": {},
   "source": [
    "### Read the data"
   ]
  },
  {
   "cell_type": "code",
   "execution_count": null,
   "metadata": {},
   "outputs": [],
   "source": []
  },
  {
   "cell_type": "code",
   "execution_count": 20,
   "metadata": {},
   "outputs": [],
   "source": [
    "data_dir = 'train'\n",
    "categories = ['Mug', 'Not']"
   ]
  },
  {
   "cell_type": "code",
   "execution_count": 21,
   "metadata": {},
   "outputs": [],
   "source": [
    "size = 50\n",
    "depth = 3\n",
    "\n",
    "train_data = []\n",
    "\n",
    "\n",
    "def create_training_data(data_dir, categories):\n",
    "    for cat in categories: \n",
    "        # path to Mug and not mugs \n",
    "        path = os.path.join(data_dir, cat)\n",
    "\n",
    "        # get the index of the class(Mug, Not) and assign it to class label \n",
    "        class_num = categories.index(cat)\n",
    "\n",
    "        # Read the images \n",
    "        for img in os.listdir(path):\n",
    "            if img != '.DS_Store':\n",
    "                # Convert each image to an array\n",
    "                img_array = plt.imread(os.path.join(path, img))\n",
    "                # resize the image\n",
    "                img_res = resize(img_array, (size,size,depth))\n",
    "                # Append the images to the train_data list \n",
    "                train_data.append([img_res,class_num])\n",
    "    \n",
    "    return train_data"
   ]
  },
  {
   "cell_type": "code",
   "execution_count": 22,
   "metadata": {},
   "outputs": [],
   "source": [
    "train_data = create_training_data(data_dir,categories)"
   ]
  },
  {
   "cell_type": "code",
   "execution_count": 23,
   "metadata": {},
   "outputs": [
    {
     "name": "stdout",
     "output_type": "stream",
     "text": [
      "43\n"
     ]
    }
   ],
   "source": [
    "print(len(train_data))"
   ]
  },
  {
   "cell_type": "code",
   "execution_count": null,
   "metadata": {},
   "outputs": [],
   "source": []
  },
  {
   "cell_type": "markdown",
   "metadata": {},
   "source": [
    "#### Shuffle the data"
   ]
  },
  {
   "cell_type": "code",
   "execution_count": 24,
   "metadata": {},
   "outputs": [],
   "source": [
    "random.shuffle(train_data)"
   ]
  },
  {
   "cell_type": "code",
   "execution_count": null,
   "metadata": {},
   "outputs": [],
   "source": []
  },
  {
   "cell_type": "markdown",
   "metadata": {},
   "source": [
    "#### Examine the data"
   ]
  },
  {
   "cell_type": "code",
   "execution_count": 30,
   "metadata": {},
   "outputs": [
    {
     "name": "stdout",
     "output_type": "stream",
     "text": [
      "1\n",
      "0\n",
      "1\n",
      "1\n",
      "0\n"
     ]
    }
   ],
   "source": [
    "# The first 5 labels\n",
    "\n",
    "for img in train_data[:5]:\n",
    "    print(img[1])"
   ]
  },
  {
   "cell_type": "code",
   "execution_count": null,
   "metadata": {},
   "outputs": [],
   "source": []
  },
  {
   "cell_type": "code",
   "execution_count": null,
   "metadata": {},
   "outputs": [],
   "source": []
  },
  {
   "cell_type": "markdown",
   "metadata": {},
   "source": [
    "### Extract the features and the labels and assign them to X and y "
   ]
  },
  {
   "cell_type": "code",
   "execution_count": 31,
   "metadata": {},
   "outputs": [],
   "source": [
    "X = []\n",
    "y = []\n",
    "\n",
    "for features, labels in train_data:\n",
    "    X.append(features)\n",
    "    y.append(labels)"
   ]
  },
  {
   "cell_type": "code",
   "execution_count": null,
   "metadata": {},
   "outputs": [],
   "source": []
  },
  {
   "cell_type": "code",
   "execution_count": 32,
   "metadata": {},
   "outputs": [
    {
     "data": {
      "text/plain": [
       "array([[[1.        , 1.        , 1.        ],\n",
       "        [1.        , 1.        , 1.        ],\n",
       "        [1.        , 1.        , 1.        ],\n",
       "        ...,\n",
       "        [1.        , 1.        , 1.        ],\n",
       "        [1.        , 1.        , 1.        ],\n",
       "        [1.        , 1.        , 1.        ]],\n",
       "\n",
       "       [[1.        , 1.        , 1.        ],\n",
       "        [1.        , 1.        , 1.        ],\n",
       "        [1.        , 1.        , 1.        ],\n",
       "        ...,\n",
       "        [1.        , 1.        , 1.        ],\n",
       "        [1.        , 1.        , 1.        ],\n",
       "        [1.        , 1.        , 1.        ]],\n",
       "\n",
       "       [[1.        , 1.        , 1.        ],\n",
       "        [1.        , 1.        , 1.        ],\n",
       "        [1.        , 1.        , 1.        ],\n",
       "        ...,\n",
       "        [1.        , 1.        , 1.        ],\n",
       "        [1.        , 1.        , 1.        ],\n",
       "        [1.        , 1.        , 1.        ]],\n",
       "\n",
       "       ...,\n",
       "\n",
       "       [[0.98823529, 0.99607843, 0.99411765],\n",
       "        [0.98823529, 0.99607843, 0.99411765],\n",
       "        [0.98823529, 0.99607843, 0.99411765],\n",
       "        ...,\n",
       "        [0.98823529, 0.99607843, 0.99411765],\n",
       "        [0.98823529, 0.99607843, 0.99411765],\n",
       "        [0.98823529, 0.99607843, 0.99411765]],\n",
       "\n",
       "       [[0.98235294, 0.99607843, 0.98333333],\n",
       "        [0.98235294, 0.99607843, 0.98333333],\n",
       "        [0.98235294, 0.99607843, 0.98333333],\n",
       "        ...,\n",
       "        [0.98235294, 0.99607843, 0.98333333],\n",
       "        [0.98235294, 0.99607843, 0.98333333],\n",
       "        [0.98235294, 0.99607843, 0.98333333]],\n",
       "\n",
       "       [[0.77843137, 0.90784314, 0.94803922],\n",
       "        [0.77843137, 0.90784314, 0.94803922],\n",
       "        [0.77843137, 0.90784314, 0.94803922],\n",
       "        ...,\n",
       "        [0.77843137, 0.90784314, 0.94803922],\n",
       "        [0.77843137, 0.90784314, 0.94803922],\n",
       "        [0.77843137, 0.90784314, 0.94803922]]])"
      ]
     },
     "execution_count": 32,
     "metadata": {},
     "output_type": "execute_result"
    }
   ],
   "source": [
    "X[0]"
   ]
  },
  {
   "cell_type": "code",
   "execution_count": null,
   "metadata": {},
   "outputs": [],
   "source": []
  },
  {
   "cell_type": "code",
   "execution_count": 48,
   "metadata": {},
   "outputs": [],
   "source": [
    "#### Convert X to Numpy array and reshape the data to 4-D\n",
    "X = np.array(X).reshape(-1,size,size, depth)"
   ]
  },
  {
   "cell_type": "code",
   "execution_count": null,
   "metadata": {},
   "outputs": [],
   "source": []
  },
  {
   "cell_type": "code",
   "execution_count": 49,
   "metadata": {},
   "outputs": [
    {
     "data": {
      "text/plain": [
       "(43, 50, 50, 3)"
      ]
     },
     "execution_count": 49,
     "metadata": {},
     "output_type": "execute_result"
    }
   ],
   "source": [
    "# Check the Shape of the array\n",
    "X.shape"
   ]
  },
  {
   "cell_type": "code",
   "execution_count": null,
   "metadata": {},
   "outputs": [],
   "source": []
  },
  {
   "cell_type": "code",
   "execution_count": 42,
   "metadata": {},
   "outputs": [],
   "source": [
    "## Add one-hot encoding to labels y\n",
    "y = to_categorical(y)"
   ]
  },
  {
   "cell_type": "code",
   "execution_count": 43,
   "metadata": {},
   "outputs": [
    {
     "data": {
      "text/plain": [
       "(43, 2)"
      ]
     },
     "execution_count": 43,
     "metadata": {},
     "output_type": "execute_result"
    }
   ],
   "source": [
    "y.shape"
   ]
  },
  {
   "cell_type": "code",
   "execution_count": null,
   "metadata": {},
   "outputs": [],
   "source": []
  },
  {
   "cell_type": "code",
   "execution_count": null,
   "metadata": {},
   "outputs": [],
   "source": []
  },
  {
   "cell_type": "markdown",
   "metadata": {},
   "source": [
    "### Model Creation "
   ]
  },
  {
   "cell_type": "code",
   "execution_count": 88,
   "metadata": {},
   "outputs": [],
   "source": [
    "# Create a Sequential Model \n",
    "model = Sequential()\n",
    "\n",
    "# Add first convolutional Layers\n",
    "model.add(Conv2D(32,(3,3), activation = 'relu', padding = 'same', input_shape=(50,50,3)))\n",
    "# Add pooling layer \n",
    "model.add(MaxPool2D(pool_size=(2,2)))\n",
    "\n",
    "\n",
    "# Add second convolutional Layers\n",
    "model.add(Conv2D(64,(3,3), activation = 'relu', padding = 'same'))\n",
    "model.add(MaxPool2D(pool_size=(2,2)))\n",
    "#model.add(Dropout(0.4))\n",
    "\n",
    "## Flatten the data and add FC layers\n",
    "model.add(Flatten())\n",
    "\n",
    "# Add Dropout layer \n",
    "model.add(Dropout(0.4))\n",
    "model.add(Dense(128, activation = 'relu'))\n",
    "#model.add(Dropout(0.5))\n",
    "\n",
    "# Add the output layer\n",
    "model.add(Dense(2,activation='softmax'))"
   ]
  },
  {
   "cell_type": "code",
   "execution_count": null,
   "metadata": {},
   "outputs": [],
   "source": []
  },
  {
   "cell_type": "code",
   "execution_count": 89,
   "metadata": {},
   "outputs": [
    {
     "name": "stdout",
     "output_type": "stream",
     "text": [
      "Model: \"sequential_6\"\n",
      "_________________________________________________________________\n",
      "Layer (type)                 Output Shape              Param #   \n",
      "=================================================================\n",
      "conv2d_16 (Conv2D)           (None, 50, 50, 32)        896       \n",
      "_________________________________________________________________\n",
      "max_pooling2d_11 (MaxPooling (None, 25, 25, 32)        0         \n",
      "_________________________________________________________________\n",
      "conv2d_17 (Conv2D)           (None, 25, 25, 64)        18496     \n",
      "_________________________________________________________________\n",
      "max_pooling2d_12 (MaxPooling (None, 12, 12, 64)        0         \n",
      "_________________________________________________________________\n",
      "flatten_6 (Flatten)          (None, 9216)              0         \n",
      "_________________________________________________________________\n",
      "dropout_8 (Dropout)          (None, 9216)              0         \n",
      "_________________________________________________________________\n",
      "dense_11 (Dense)             (None, 128)               1179776   \n",
      "_________________________________________________________________\n",
      "dense_12 (Dense)             (None, 2)                 258       \n",
      "=================================================================\n",
      "Total params: 1,199,426\n",
      "Trainable params: 1,199,426\n",
      "Non-trainable params: 0\n",
      "_________________________________________________________________\n"
     ]
    }
   ],
   "source": [
    "# Check the summary of the model \n",
    "model.summary()"
   ]
  },
  {
   "cell_type": "code",
   "execution_count": null,
   "metadata": {},
   "outputs": [],
   "source": []
  },
  {
   "cell_type": "code",
   "execution_count": 90,
   "metadata": {},
   "outputs": [],
   "source": [
    "## Compile the model \n",
    "model.compile(loss = 'categorical_crossentropy', \n",
    "             optimizer='adam',\n",
    "             metrics=['accuracy'])"
   ]
  },
  {
   "cell_type": "code",
   "execution_count": null,
   "metadata": {},
   "outputs": [],
   "source": []
  },
  {
   "cell_type": "code",
   "execution_count": 91,
   "metadata": {},
   "outputs": [
    {
     "name": "stdout",
     "output_type": "stream",
     "text": [
      "Train on 30 samples, validate on 13 samples\n",
      "Epoch 1/20\n",
      "30/30 [==============================] - 1s 23ms/step - loss: 0.6964 - accuracy: 0.6000 - val_loss: 0.5899 - val_accuracy: 0.6923\n",
      "Epoch 2/20\n",
      "30/30 [==============================] - 0s 9ms/step - loss: 0.7322 - accuracy: 0.5333 - val_loss: 0.6072 - val_accuracy: 0.6923\n",
      "Epoch 3/20\n",
      "30/30 [==============================] - 0s 11ms/step - loss: 0.6380 - accuracy: 0.6000 - val_loss: 0.5503 - val_accuracy: 0.6923\n",
      "Epoch 4/20\n",
      "30/30 [==============================] - 0s 12ms/step - loss: 0.5378 - accuracy: 0.7333 - val_loss: 0.5877 - val_accuracy: 0.7692\n",
      "Epoch 5/20\n",
      "30/30 [==============================] - 0s 9ms/step - loss: 0.5070 - accuracy: 0.8000 - val_loss: 0.4609 - val_accuracy: 0.7692\n",
      "Epoch 6/20\n",
      "30/30 [==============================] - 0s 9ms/step - loss: 0.4255 - accuracy: 0.8000 - val_loss: 0.5056 - val_accuracy: 0.7692\n",
      "Epoch 7/20\n",
      "30/30 [==============================] - 0s 8ms/step - loss: 0.3357 - accuracy: 0.8667 - val_loss: 0.4199 - val_accuracy: 0.7692\n",
      "Epoch 8/20\n",
      "30/30 [==============================] - 0s 7ms/step - loss: 0.3405 - accuracy: 0.8667 - val_loss: 0.4038 - val_accuracy: 0.8462\n",
      "Epoch 9/20\n",
      "30/30 [==============================] - 0s 9ms/step - loss: 0.2836 - accuracy: 0.8333 - val_loss: 0.6239 - val_accuracy: 0.7692\n",
      "Epoch 10/20\n",
      "30/30 [==============================] - 0s 10ms/step - loss: 0.2774 - accuracy: 0.8667 - val_loss: 0.4497 - val_accuracy: 0.7692\n",
      "Epoch 11/20\n",
      "30/30 [==============================] - 0s 10ms/step - loss: 0.1885 - accuracy: 0.9333 - val_loss: 0.5481 - val_accuracy: 0.6923\n",
      "Epoch 12/20\n",
      "30/30 [==============================] - 0s 12ms/step - loss: 0.1643 - accuracy: 0.9000 - val_loss: 0.6996 - val_accuracy: 0.6923\n",
      "Epoch 13/20\n",
      "30/30 [==============================] - 0s 11ms/step - loss: 0.2268 - accuracy: 0.8333 - val_loss: 0.5198 - val_accuracy: 0.7692\n",
      "Epoch 14/20\n",
      "30/30 [==============================] - 0s 9ms/step - loss: 0.1402 - accuracy: 0.9000 - val_loss: 0.6214 - val_accuracy: 0.6923\n",
      "Epoch 15/20\n",
      "30/30 [==============================] - 0s 10ms/step - loss: 0.1101 - accuracy: 0.9667 - val_loss: 0.6905 - val_accuracy: 0.8462\n",
      "Epoch 16/20\n",
      "30/30 [==============================] - 0s 10ms/step - loss: 0.0846 - accuracy: 1.0000 - val_loss: 0.8454 - val_accuracy: 0.6923\n",
      "Epoch 17/20\n",
      "30/30 [==============================] - 0s 8ms/step - loss: 0.0868 - accuracy: 0.9667 - val_loss: 0.7646 - val_accuracy: 0.8462\n",
      "Epoch 18/20\n",
      "30/30 [==============================] - 0s 10ms/step - loss: 0.0886 - accuracy: 0.9667 - val_loss: 1.3214 - val_accuracy: 0.6154\n",
      "Epoch 19/20\n",
      "30/30 [==============================] - 0s 13ms/step - loss: 0.0899 - accuracy: 0.9333 - val_loss: 1.1023 - val_accuracy: 0.6154\n",
      "Epoch 20/20\n",
      "30/30 [==============================] - 0s 11ms/step - loss: 0.0908 - accuracy: 0.9667 - val_loss: 0.9883 - val_accuracy: 0.7692\n"
     ]
    },
    {
     "data": {
      "text/plain": [
       "<keras.callbacks.callbacks.History at 0x1510e7f10>"
      ]
     },
     "execution_count": 91,
     "metadata": {},
     "output_type": "execute_result"
    }
   ],
   "source": [
    "## Fit the model \n",
    "model.fit(X[:43], y, batch_size=7, epochs= 20, validation_split=0.3)"
   ]
  },
  {
   "cell_type": "code",
   "execution_count": 92,
   "metadata": {},
   "outputs": [],
   "source": [
    "hist = model.history"
   ]
  },
  {
   "cell_type": "code",
   "execution_count": 93,
   "metadata": {},
   "outputs": [
    {
     "data": {
      "image/png": "[encoded data removed]",
      "text/plain": [
       "<Figure size 432x288 with 1 Axes>"
      ]
     },
     "metadata": {
      "needs_background": "light"
     },
     "output_type": "display_data"
    }
   ],
   "source": [
    "plt.plot(hist.history['loss'])\n",
    "plt.plot(hist.history['val_loss'])\n",
    "plt.title('Model Loss')\n",
    "plt.xlabel('Epoch')\n",
    "plt.ylabel('Loss')\n",
    "plt.legend(['Train', 'Val'], loc = 'upper right')\n",
    "\n",
    "\n",
    "plt.show()"
   ]
  },
  {
   "cell_type": "code",
   "execution_count": 94,
   "metadata": {},
   "outputs": [
    {
     "data": {
      "image/png": "[encoded data removed]",
      "text/plain": [
       "<Figure size 432x288 with 1 Axes>"
      ]
     },
     "metadata": {
      "needs_background": "light"
     },
     "output_type": "display_data"
    }
   ],
   "source": [
    "plt.plot(hist.history['accuracy'])\n",
    "plt.plot(hist.history['val_accuracy'])\n",
    "plt.title('Model Accuracy')\n",
    "plt.ylabel('Accuracy')\n",
    "plt.xlabel('Epoch')\n",
    "plt.legend(['Train','Val'],loc = 'lower right')\n",
    "\n",
    "plt.show()"
   ]
  },
  {
   "cell_type": "code",
   "execution_count": null,
   "metadata": {},
   "outputs": [],
   "source": []
  },
  {
   "cell_type": "code",
   "execution_count": null,
   "metadata": {},
   "outputs": [],
   "source": []
  },
  {
   "cell_type": "markdown",
   "metadata": {},
   "source": [
    "#### Model 2"
   ]
  },
  {
   "cell_type": "code",
   "execution_count": 95,
   "metadata": {},
   "outputs": [],
   "source": [
    "model2 = Sequential()\n",
    "model2.add(Conv2D(32,(3,3), activation = 'relu', padding = 'same', input_shape=(50,50,3)))\n",
    "model2.add(Conv2D(32,(3,3), activation = 'relu', padding = 'same'))\n",
    "model2.add(MaxPool2D(pool_size=(2,2)))\n",
    "\n",
    "model2.add(Conv2D(64,(3,3), activation = 'relu', padding = 'same'))\n",
    "model2.add(Conv2D(128,(3,3), activation = 'relu', padding = 'same'))\n",
    "model2.add(MaxPool2D(pool_size=(2,2)))\n",
    "model2.add(Dropout(0.4))\n",
    "\n",
    "\n",
    "model2.add(Flatten())\n",
    "model2.add(Dense(256, activation = 'relu'))\n",
    "model2.add(Dropout(0.5))\n",
    "\n",
    "model2.add(Dense(2,activation='softmax'))"
   ]
  },
  {
   "cell_type": "code",
   "execution_count": 96,
   "metadata": {},
   "outputs": [
    {
     "name": "stdout",
     "output_type": "stream",
     "text": [
      "Model: \"sequential_7\"\n",
      "_________________________________________________________________\n",
      "Layer (type)                 Output Shape              Param #   \n",
      "=================================================================\n",
      "conv2d_18 (Conv2D)           (None, 50, 50, 32)        896       \n",
      "_________________________________________________________________\n",
      "conv2d_19 (Conv2D)           (None, 50, 50, 32)        9248      \n",
      "_________________________________________________________________\n",
      "max_pooling2d_13 (MaxPooling (None, 25, 25, 32)        0         \n",
      "_________________________________________________________________\n",
      "conv2d_20 (Conv2D)           (None, 25, 25, 64)        18496     \n",
      "_________________________________________________________________\n",
      "conv2d_21 (Conv2D)           (None, 25, 25, 128)       73856     \n",
      "_________________________________________________________________\n",
      "max_pooling2d_14 (MaxPooling (None, 12, 12, 128)       0         \n",
      "_________________________________________________________________\n",
      "dropout_9 (Dropout)          (None, 12, 12, 128)       0         \n",
      "_________________________________________________________________\n",
      "flatten_7 (Flatten)          (None, 18432)             0         \n",
      "_________________________________________________________________\n",
      "dense_13 (Dense)             (None, 256)               4718848   \n",
      "_________________________________________________________________\n",
      "dropout_10 (Dropout)         (None, 256)               0         \n",
      "_________________________________________________________________\n",
      "dense_14 (Dense)             (None, 2)                 514       \n",
      "=================================================================\n",
      "Total params: 4,821,858\n",
      "Trainable params: 4,821,858\n",
      "Non-trainable params: 0\n",
      "_________________________________________________________________\n"
     ]
    }
   ],
   "source": [
    "model2.summary()"
   ]
  },
  {
   "cell_type": "code",
   "execution_count": null,
   "metadata": {},
   "outputs": [],
   "source": []
  },
  {
   "cell_type": "code",
   "execution_count": 97,
   "metadata": {},
   "outputs": [],
   "source": [
    "model2.compile(loss = 'categorical_crossentropy', \n",
    "             optimizer='adam',\n",
    "             metrics=['accuracy'])"
   ]
  },
  {
   "cell_type": "code",
   "execution_count": null,
   "metadata": {},
   "outputs": [],
   "source": []
  },
  {
   "cell_type": "code",
   "execution_count": 98,
   "metadata": {},
   "outputs": [
    {
     "name": "stdout",
     "output_type": "stream",
     "text": [
      "Train on 30 samples, validate on 13 samples\n",
      "Epoch 1/20\n",
      "30/30 [==============================] - 1s 48ms/step - loss: 0.7968 - accuracy: 0.5667 - val_loss: 0.6311 - val_accuracy: 0.6923\n",
      "Epoch 2/20\n",
      "30/30 [==============================] - 1s 32ms/step - loss: 0.7273 - accuracy: 0.5333 - val_loss: 0.6581 - val_accuracy: 0.6923\n",
      "Epoch 3/20\n",
      "30/30 [==============================] - 1s 31ms/step - loss: 0.6775 - accuracy: 0.4667 - val_loss: 0.6679 - val_accuracy: 0.6923\n",
      "Epoch 4/20\n",
      "30/30 [==============================] - 1s 31ms/step - loss: 0.7009 - accuracy: 0.4667 - val_loss: 0.6247 - val_accuracy: 0.6923\n",
      "Epoch 5/20\n",
      "30/30 [==============================] - 1s 32ms/step - loss: 0.6538 - accuracy: 0.5667 - val_loss: 0.6207 - val_accuracy: 0.6923\n",
      "Epoch 6/20\n",
      "30/30 [==============================] - 1s 30ms/step - loss: 0.6226 - accuracy: 0.5667 - val_loss: 0.5666 - val_accuracy: 0.6923\n",
      "Epoch 7/20\n",
      "30/30 [==============================] - 1s 33ms/step - loss: 0.5892 - accuracy: 0.6000 - val_loss: 0.5218 - val_accuracy: 0.6923\n",
      "Epoch 8/20\n",
      "30/30 [==============================] - 1s 31ms/step - loss: 0.4910 - accuracy: 0.7000 - val_loss: 0.6160 - val_accuracy: 0.6923\n",
      "Epoch 9/20\n",
      "30/30 [==============================] - 1s 31ms/step - loss: 0.4223 - accuracy: 0.7667 - val_loss: 0.6378 - val_accuracy: 0.8462\n",
      "Epoch 10/20\n",
      "30/30 [==============================] - 1s 37ms/step - loss: 0.3617 - accuracy: 0.8333 - val_loss: 0.6097 - val_accuracy: 0.6923\n",
      "Epoch 11/20\n",
      "30/30 [==============================] - 1s 37ms/step - loss: 0.2916 - accuracy: 0.8333 - val_loss: 0.6748 - val_accuracy: 0.6923\n",
      "Epoch 12/20\n",
      "30/30 [==============================] - 1s 35ms/step - loss: 0.1849 - accuracy: 0.9000 - val_loss: 1.0307 - val_accuracy: 0.8462\n",
      "Epoch 13/20\n",
      "30/30 [==============================] - 1s 29ms/step - loss: 0.3027 - accuracy: 0.8333 - val_loss: 0.4348 - val_accuracy: 0.6923\n",
      "Epoch 14/20\n",
      "30/30 [==============================] - 1s 35ms/step - loss: 0.3473 - accuracy: 0.8333 - val_loss: 0.4961 - val_accuracy: 0.6923\n",
      "Epoch 15/20\n",
      "30/30 [==============================] - 1s 39ms/step - loss: 0.1688 - accuracy: 0.9333 - val_loss: 0.9574 - val_accuracy: 0.7692\n",
      "Epoch 16/20\n",
      "30/30 [==============================] - 1s 45ms/step - loss: 0.2204 - accuracy: 0.8000 - val_loss: 0.4936 - val_accuracy: 0.8462\n",
      "Epoch 17/20\n",
      "30/30 [==============================] - 1s 43ms/step - loss: 0.2614 - accuracy: 0.9000 - val_loss: 0.3602 - val_accuracy: 0.7692\n",
      "Epoch 18/20\n",
      "30/30 [==============================] - 1s 35ms/step - loss: 0.3519 - accuracy: 0.8333 - val_loss: 0.4660 - val_accuracy: 0.6923\n",
      "Epoch 19/20\n",
      "30/30 [==============================] - 1s 29ms/step - loss: 0.2593 - accuracy: 0.8667 - val_loss: 0.9769 - val_accuracy: 0.6923\n",
      "Epoch 20/20\n",
      "30/30 [==============================] - 1s 31ms/step - loss: 0.2416 - accuracy: 0.9000 - val_loss: 0.5409 - val_accuracy: 0.6923\n"
     ]
    },
    {
     "data": {
      "text/plain": [
       "<keras.callbacks.callbacks.History at 0x155cb3550>"
      ]
     },
     "execution_count": 98,
     "metadata": {},
     "output_type": "execute_result"
    }
   ],
   "source": [
    "model2.fit(X, y, batch_size=7, epochs= 20, validation_split=0.3)"
   ]
  },
  {
   "cell_type": "code",
   "execution_count": null,
   "metadata": {},
   "outputs": [],
   "source": []
  },
  {
   "cell_type": "code",
   "execution_count": 99,
   "metadata": {},
   "outputs": [],
   "source": [
    "hist2 = model2.history"
   ]
  },
  {
   "cell_type": "code",
   "execution_count": 100,
   "metadata": {},
   "outputs": [
    {
     "data": {
      "image/png": "[encoded data removed]",
      "text/plain": [
       "<Figure size 432x288 with 1 Axes>"
      ]
     },
     "metadata": {
      "needs_background": "light"
     },
     "output_type": "display_data"
    }
   ],
   "source": [
    "plt.plot(hist2.history['loss'])\n",
    "plt.plot(hist2.history['val_loss'])\n",
    "plt.title('Model Loss')\n",
    "plt.xlabel('Epoch')\n",
    "plt.ylabel('Loss')\n",
    "plt.legend(['Train', 'Val'], loc = 'upper right')\n",
    "\n",
    "\n",
    "plt.show()"
   ]
  },
  {
   "cell_type": "code",
   "execution_count": 101,
   "metadata": {},
   "outputs": [
    {
     "data": {
      "image/png": "[encoded data removed]",
      "text/plain": [
       "<Figure size 432x288 with 1 Axes>"
      ]
     },
     "metadata": {
      "needs_background": "light"
     },
     "output_type": "display_data"
    }
   ],
   "source": [
    "plt.plot(hist2.history['accuracy'])\n",
    "plt.plot(hist2.history['val_accuracy'])\n",
    "plt.title('Model Accuracy')\n",
    "plt.ylabel('Accuracy')\n",
    "plt.xlabel('Epoch')\n",
    "plt.legend(['Train','Val'],loc = 'lower right')\n",
    "\n",
    "plt.show()"
   ]
  },
  {
   "cell_type": "code",
   "execution_count": null,
   "metadata": {},
   "outputs": [],
   "source": []
  },
  {
   "cell_type": "markdown",
   "metadata": {},
   "source": [
    "#### Model 3"
   ]
  },
  {
   "cell_type": "code",
   "execution_count": 102,
   "metadata": {},
   "outputs": [],
   "source": [
    "model3 = Sequential()\n",
    "model3.add(Conv2D(32,(3,3), activation = 'relu', padding = 'same', input_shape=(50,50,3)))\n",
    "model3.add(Conv2D(32,(3,3), activation = 'relu', padding = 'same'))\n",
    "model3.add(MaxPool2D(pool_size=(2,2)))\n",
    "\n",
    "model3.add(Conv2D(64,(3,3), activation = 'relu', padding = 'same'))\n",
    "model3.add(Conv2D(128,(3,3), activation = 'relu', padding = 'same'))\n",
    "model3.add(Conv2D(128,(3,3), activation = 'relu', padding = 'same'))\n",
    "model3.add(MaxPool2D(pool_size=(2,2)))\n",
    "model3.add(Dropout(0.2))\n",
    "\n",
    "\n",
    "model3.add(Flatten())\n",
    "model3.add(Dense(128, activation = 'relu'))\n",
    "model3.add(Dense(64, activation = 'relu'))\n",
    "model3.add(Dense(32, activation = 'relu'))\n",
    "model3.add(Dropout(0.5))\n",
    "\n",
    "model3.add(Dense(2,activation='softmax'))"
   ]
  },
  {
   "cell_type": "code",
   "execution_count": 104,
   "metadata": {},
   "outputs": [
    {
     "name": "stdout",
     "output_type": "stream",
     "text": [
      "Model: \"sequential_8\"\n",
      "_________________________________________________________________\n",
      "Layer (type)                 Output Shape              Param #   \n",
      "=================================================================\n",
      "conv2d_22 (Conv2D)           (None, 50, 50, 32)        896       \n",
      "_________________________________________________________________\n",
      "conv2d_23 (Conv2D)           (None, 50, 50, 32)        9248      \n",
      "_________________________________________________________________\n",
      "max_pooling2d_15 (MaxPooling (None, 25, 25, 32)        0         \n",
      "_________________________________________________________________\n",
      "conv2d_24 (Conv2D)           (None, 25, 25, 64)        18496     \n",
      "_________________________________________________________________\n",
      "conv2d_25 (Conv2D)           (None, 25, 25, 128)       73856     \n",
      "_________________________________________________________________\n",
      "conv2d_26 (Conv2D)           (None, 25, 25, 128)       147584    \n",
      "_________________________________________________________________\n",
      "max_pooling2d_16 (MaxPooling (None, 12, 12, 128)       0         \n",
      "_________________________________________________________________\n",
      "dropout_11 (Dropout)         (None, 12, 12, 128)       0         \n",
      "_________________________________________________________________\n",
      "flatten_8 (Flatten)          (None, 18432)             0         \n",
      "_________________________________________________________________\n",
      "dense_15 (Dense)             (None, 128)               2359424   \n",
      "_________________________________________________________________\n",
      "dense_16 (Dense)             (None, 64)                8256      \n",
      "_________________________________________________________________\n",
      "dense_17 (Dense)             (None, 32)                2080      \n",
      "_________________________________________________________________\n",
      "dropout_12 (Dropout)         (None, 32)                0         \n",
      "_________________________________________________________________\n",
      "dense_18 (Dense)             (None, 2)                 66        \n",
      "=================================================================\n",
      "Total params: 2,619,906\n",
      "Trainable params: 2,619,906\n",
      "Non-trainable params: 0\n",
      "_________________________________________________________________\n"
     ]
    }
   ],
   "source": [
    "model3.summary()"
   ]
  },
  {
   "cell_type": "code",
   "execution_count": 105,
   "metadata": {},
   "outputs": [],
   "source": [
    "model3.compile(loss = 'categorical_crossentropy', \n",
    "             optimizer='adam',\n",
    "             metrics=['accuracy'])"
   ]
  },
  {
   "cell_type": "code",
   "execution_count": 106,
   "metadata": {},
   "outputs": [
    {
     "name": "stdout",
     "output_type": "stream",
     "text": [
      "Train on 30 samples, validate on 13 samples\n",
      "Epoch 1/25\n",
      "30/30 [==============================] - 2s 57ms/step - loss: 0.7652 - accuracy: 0.5667 - val_loss: 0.6789 - val_accuracy: 0.6923\n",
      "Epoch 2/25\n",
      "30/30 [==============================] - 1s 35ms/step - loss: 0.6916 - accuracy: 0.6000 - val_loss: 0.6683 - val_accuracy: 0.6923\n",
      "Epoch 3/25\n",
      "30/30 [==============================] - 1s 38ms/step - loss: 0.7028 - accuracy: 0.5667 - val_loss: 0.6731 - val_accuracy: 0.6923\n",
      "Epoch 4/25\n",
      "30/30 [==============================] - 1s 37ms/step - loss: 0.6932 - accuracy: 0.5667 - val_loss: 0.6893 - val_accuracy: 0.6923\n",
      "Epoch 5/25\n",
      "30/30 [==============================] - 1s 37ms/step - loss: 0.6901 - accuracy: 0.5667 - val_loss: 0.6824 - val_accuracy: 0.6923\n",
      "Epoch 6/25\n",
      "30/30 [==============================] - 2s 54ms/step - loss: 0.6910 - accuracy: 0.5333 - val_loss: 0.6603 - val_accuracy: 0.6923\n",
      "Epoch 7/25\n",
      "30/30 [==============================] - 1s 45ms/step - loss: 0.6941 - accuracy: 0.5667 - val_loss: 0.6635 - val_accuracy: 0.6923\n",
      "Epoch 8/25\n",
      "30/30 [==============================] - 1s 43ms/step - loss: 0.6109 - accuracy: 0.5667 - val_loss: 2.5358 - val_accuracy: 0.6923\n",
      "Epoch 9/25\n",
      "30/30 [==============================] - 1s 38ms/step - loss: 1.7251 - accuracy: 0.5333 - val_loss: 0.6856 - val_accuracy: 0.6923\n",
      "Epoch 10/25\n",
      "30/30 [==============================] - 1s 38ms/step - loss: 0.6906 - accuracy: 0.5667 - val_loss: 0.6884 - val_accuracy: 0.6923\n",
      "Epoch 11/25\n",
      "30/30 [==============================] - 1s 44ms/step - loss: 0.6931 - accuracy: 0.5667 - val_loss: 0.6880 - val_accuracy: 0.6923\n",
      "Epoch 12/25\n",
      "30/30 [==============================] - 1s 41ms/step - loss: 0.6910 - accuracy: 0.5667 - val_loss: 0.6860 - val_accuracy: 0.6923\n",
      "Epoch 13/25\n",
      "30/30 [==============================] - 1s 38ms/step - loss: 0.6899 - accuracy: 0.5667 - val_loss: 0.6833 - val_accuracy: 0.6923\n",
      "Epoch 14/25\n",
      "30/30 [==============================] - 1s 39ms/step - loss: 0.6927 - accuracy: 0.5667 - val_loss: 0.6817 - val_accuracy: 0.6923\n",
      "Epoch 15/25\n",
      "30/30 [==============================] - 1s 44ms/step - loss: 0.6859 - accuracy: 0.5667 - val_loss: 0.6776 - val_accuracy: 0.6923\n",
      "Epoch 16/25\n",
      "30/30 [==============================] - 1s 44ms/step - loss: 0.6877 - accuracy: 0.5667 - val_loss: 0.6709 - val_accuracy: 0.6923\n",
      "Epoch 17/25\n",
      "30/30 [==============================] - 1s 39ms/step - loss: 0.6850 - accuracy: 0.5667 - val_loss: 0.6646 - val_accuracy: 0.6923\n",
      "Epoch 18/25\n",
      "30/30 [==============================] - 1s 38ms/step - loss: 0.6926 - accuracy: 0.5667 - val_loss: 0.6724 - val_accuracy: 0.6923\n",
      "Epoch 19/25\n",
      "30/30 [==============================] - 1s 39ms/step - loss: 0.6863 - accuracy: 0.5667 - val_loss: 0.6636 - val_accuracy: 0.6923\n",
      "Epoch 20/25\n",
      "30/30 [==============================] - 1s 43ms/step - loss: 0.6805 - accuracy: 0.5667 - val_loss: 0.6159 - val_accuracy: 0.6923\n",
      "Epoch 21/25\n",
      "30/30 [==============================] - 1s 47ms/step - loss: 0.6771 - accuracy: 0.5667 - val_loss: 0.6068 - val_accuracy: 0.6923\n",
      "Epoch 22/25\n",
      "30/30 [==============================] - 1s 50ms/step - loss: 0.6424 - accuracy: 0.6000 - val_loss: 0.6045 - val_accuracy: 0.6923\n",
      "Epoch 23/25\n",
      "30/30 [==============================] - 1s 45ms/step - loss: 0.5161 - accuracy: 0.6333 - val_loss: 0.8049 - val_accuracy: 0.6154\n",
      "Epoch 24/25\n",
      "30/30 [==============================] - 1s 47ms/step - loss: 0.5876 - accuracy: 0.6333 - val_loss: 0.4521 - val_accuracy: 0.6923\n",
      "Epoch 25/25\n",
      "30/30 [==============================] - 1s 39ms/step - loss: 0.5553 - accuracy: 0.6000 - val_loss: 0.4401 - val_accuracy: 0.6923\n"
     ]
    },
    {
     "data": {
      "text/plain": [
       "<keras.callbacks.callbacks.History at 0x1567cd810>"
      ]
     },
     "execution_count": 106,
     "metadata": {},
     "output_type": "execute_result"
    }
   ],
   "source": [
    "model3.fit(X, y, batch_size=4, epochs= 25, validation_split=0.3)"
   ]
  },
  {
   "cell_type": "code",
   "execution_count": null,
   "metadata": {},
   "outputs": [],
   "source": []
  },
  {
   "cell_type": "code",
   "execution_count": 107,
   "metadata": {},
   "outputs": [],
   "source": [
    "hist3 = model3.history "
   ]
  },
  {
   "cell_type": "code",
   "execution_count": null,
   "metadata": {},
   "outputs": [],
   "source": []
  },
  {
   "cell_type": "code",
   "execution_count": 108,
   "metadata": {},
   "outputs": [
    {
     "data": {
      "image/png": "[encoded data removed]",
      "text/plain": [
       "<Figure size 432x288 with 1 Axes>"
      ]
     },
     "metadata": {
      "needs_background": "light"
     },
     "output_type": "display_data"
    }
   ],
   "source": [
    "plt.plot(hist3.history['loss'])\n",
    "plt.plot(hist3.history['val_loss'])\n",
    "plt.title('Model Loss')\n",
    "plt.xlabel('Epoch')\n",
    "plt.ylabel('Loss')\n",
    "plt.legend(['Train', 'Val'], loc = 'upper right')\n",
    "\n",
    "\n",
    "plt.show()"
   ]
  },
  {
   "cell_type": "code",
   "execution_count": 109,
   "metadata": {},
   "outputs": [
    {
     "data": {
      "image/png": "[encoded data removed]",
      "text/plain": [
       "<Figure size 432x288 with 1 Axes>"
      ]
     },
     "metadata": {
      "needs_background": "light"
     },
     "output_type": "display_data"
    }
   ],
   "source": [
    "plt.plot(hist2.history['accuracy'])\n",
    "plt.plot(hist2.history['val_accuracy'])\n",
    "plt.title('Model Accuracy')\n",
    "plt.ylabel('Accuracy')\n",
    "plt.xlabel('Epoch')\n",
    "plt.legend(['Train','Val'],loc = 'lower right')\n",
    "\n",
    "plt.show()"
   ]
  },
  {
   "cell_type": "code",
   "execution_count": null,
   "metadata": {},
   "outputs": [],
   "source": []
  },
  {
   "cell_type": "code",
   "execution_count": null,
   "metadata": {},
   "outputs": [],
   "source": []
  },
  {
   "cell_type": "markdown",
   "metadata": {},
   "source": [
    "### Testing all Models "
   ]
  },
  {
   "cell_type": "code",
   "execution_count": null,
   "metadata": {},
   "outputs": [],
   "source": []
  },
  {
   "cell_type": "code",
   "execution_count": 111,
   "metadata": {},
   "outputs": [],
   "source": [
    "### Create test images \n",
    "\n",
    "test_dir = 'test'\n",
    "categories = ['Mug', 'Not']\n",
    "\n",
    "\n",
    "size = 50\n",
    "depth = 3\n",
    "\n",
    "test_data = []\n",
    "\n",
    "\n",
    "def create_testing_data(data_dir, categories):\n",
    "    for cat in categories: \n",
    "        # path to Mug and not mugs \n",
    "        path = os.path.join(data_dir, cat)\n",
    "\n",
    "        # get the index of the class(Mug, Not) and assign it to class label \n",
    "        class_num = categories.index(cat)\n",
    "\n",
    "        # Read the images \n",
    "        for img in os.listdir(path):\n",
    "            if img != '.DS_Store':\n",
    "                # Convert each image to an array\n",
    "                img_array = plt.imread(os.path.join(path, img))\n",
    "                # resize the image\n",
    "                img_res = resize(img_array, (size,size,depth))\n",
    "                # Append the images to the train_data list \n",
    "                test_data.append([img_res,class_num])\n",
    "    \n",
    "    return test_data"
   ]
  },
  {
   "cell_type": "code",
   "execution_count": null,
   "metadata": {},
   "outputs": [],
   "source": []
  },
  {
   "cell_type": "code",
   "execution_count": 112,
   "metadata": {},
   "outputs": [],
   "source": [
    "# Create test data \n",
    "test_data = create_testing_data(test_dir, categories)"
   ]
  },
  {
   "cell_type": "code",
   "execution_count": 114,
   "metadata": {},
   "outputs": [
    {
     "name": "stdout",
     "output_type": "stream",
     "text": [
      "10\n"
     ]
    }
   ],
   "source": [
    "print(len(test_data))"
   ]
  },
  {
   "cell_type": "code",
   "execution_count": 117,
   "metadata": {},
   "outputs": [],
   "source": [
    "# Shuffle Data\n",
    "random.shuffle(test_data)"
   ]
  },
  {
   "cell_type": "code",
   "execution_count": 118,
   "metadata": {},
   "outputs": [],
   "source": [
    "# Create X_test and y_test \n",
    "\n",
    "X_test = []\n",
    "y_test = []\n",
    "\n",
    "for features, labels in train_data:\n",
    "    X_test.append(features)\n",
    "    y_test.append(labels)"
   ]
  },
  {
   "cell_type": "code",
   "execution_count": 119,
   "metadata": {},
   "outputs": [],
   "source": [
    "### Convert X_test to numpy array and reshape X_test \n",
    "\n",
    "X_test = np.array(X_test).reshape(-1,size, size, depth)"
   ]
  },
  {
   "cell_type": "code",
   "execution_count": 120,
   "metadata": {},
   "outputs": [
    {
     "data": {
      "text/plain": [
       "(43, 50, 50, 3)"
      ]
     },
     "execution_count": 120,
     "metadata": {},
     "output_type": "execute_result"
    }
   ],
   "source": [
    "X_test.shape"
   ]
  },
  {
   "cell_type": "code",
   "execution_count": null,
   "metadata": {},
   "outputs": [],
   "source": []
  },
  {
   "cell_type": "code",
   "execution_count": 121,
   "metadata": {},
   "outputs": [],
   "source": [
    "## One -hot encode y_test \n",
    "\n",
    "y_test = to_categorical(y_test)"
   ]
  },
  {
   "cell_type": "code",
   "execution_count": 122,
   "metadata": {},
   "outputs": [
    {
     "data": {
      "text/plain": [
       "(43, 2)"
      ]
     },
     "execution_count": 122,
     "metadata": {},
     "output_type": "execute_result"
    }
   ],
   "source": [
    "y_test.shape"
   ]
  },
  {
   "cell_type": "code",
   "execution_count": null,
   "metadata": {},
   "outputs": [],
   "source": []
  },
  {
   "cell_type": "markdown",
   "metadata": {},
   "source": [
    "#### Model evaluation "
   ]
  },
  {
   "cell_type": "code",
   "execution_count": 128,
   "metadata": {},
   "outputs": [
    {
     "name": "stdout",
     "output_type": "stream",
     "text": [
      "43/43 [==============================] - 0s 1ms/step\n",
      "Model 1 evaluation:  [0.37052467257477517, 0.8837209343910217]\n",
      "['loss', 'accuracy'] \n",
      "\n",
      "43/43 [==============================] - 0s 3ms/step\n",
      "Model 2 evaluation:  [0.3102208708607873, 0.8372092843055725]\n",
      "['loss', 'accuracy'] \n",
      "\n",
      "43/43 [==============================] - 0s 7ms/step\n",
      "Model 3 evaluation:  [0.46005670137183613, 0.7209302186965942]\n",
      "['loss', 'accuracy'] \n",
      "\n"
     ]
    }
   ],
   "source": [
    "print(\"Model 1 evaluation: \", model.evaluate(X_test, y_test))\n",
    "print(model.metrics_names,'\\n')\n",
    "print(\"Model 2 evaluation: \", model2.evaluate(X_test, y_test))\n",
    "print(model2.metrics_names,'\\n')\n",
    "print(\"Model 3 evaluation: \", model3.evaluate(X_test, y_test))\n",
    "print(model.metrics_names,'\\n')"
   ]
  },
  {
   "cell_type": "code",
   "execution_count": null,
   "metadata": {},
   "outputs": [],
   "source": []
  },
  {
   "cell_type": "markdown",
   "metadata": {},
   "source": [
    "#### Predictions "
   ]
  },
  {
   "cell_type": "code",
   "execution_count": 146,
   "metadata": {},
   "outputs": [],
   "source": [
    "# First 5 images model 1\n",
    "pred = model.predict(X_test[:5])"
   ]
  },
  {
   "cell_type": "code",
   "execution_count": 151,
   "metadata": {},
   "outputs": [
    {
     "name": "stdout",
     "output_type": "stream",
     "text": [
      "[0.09800743 0.9019925 ]\n",
      "[9.9976271e-01 2.3734049e-04]\n",
      "[0.07478247 0.92521757]\n",
      "[0.23426476 0.7657352 ]\n",
      "[0.99851674 0.00148332]\n"
     ]
    }
   ],
   "source": [
    "# Print the predicted values \n",
    "for num in pred:\n",
    "    print(num)"
   ]
  },
  {
   "cell_type": "code",
   "execution_count": 158,
   "metadata": {},
   "outputs": [
    {
     "data": {
      "text/plain": [
       "array([[0., 1.],\n",
       "       [1., 0.],\n",
       "       [0., 1.],\n",
       "       [0., 1.],\n",
       "       [1., 0.]], dtype=float32)"
      ]
     },
     "execution_count": 158,
     "metadata": {},
     "output_type": "execute_result"
    }
   ],
   "source": [
    "# Print the corresponding labels \n",
    "y_test[:5]"
   ]
  },
  {
   "cell_type": "markdown",
   "metadata": {},
   "source": [
    "**model 1** accurately classified all the images "
   ]
  },
  {
   "cell_type": "code",
   "execution_count": null,
   "metadata": {},
   "outputs": [],
   "source": []
  },
  {
   "cell_type": "code",
   "execution_count": 159,
   "metadata": {},
   "outputs": [],
   "source": [
    "# First 5 images model 2\n",
    "pred2 = model2.predict(X_test[:5])"
   ]
  },
  {
   "cell_type": "code",
   "execution_count": 154,
   "metadata": {},
   "outputs": [
    {
     "name": "stdout",
     "output_type": "stream",
     "text": [
      "[0.21312776 0.7868722 ]\n",
      "[9.999958e-01 4.169435e-06]\n",
      "[0.27611333 0.7238866 ]\n",
      "[0.36822838 0.6317716 ]\n",
      "[0.9789185  0.02108153]\n"
     ]
    }
   ],
   "source": [
    "for num in pred2:\n",
    "    print(num)"
   ]
  },
  {
   "cell_type": "code",
   "execution_count": 160,
   "metadata": {},
   "outputs": [
    {
     "data": {
      "text/plain": [
       "array([[0., 1.],\n",
       "       [1., 0.],\n",
       "       [0., 1.],\n",
       "       [0., 1.],\n",
       "       [1., 0.]], dtype=float32)"
      ]
     },
     "execution_count": 160,
     "metadata": {},
     "output_type": "execute_result"
    }
   ],
   "source": [
    "y_test[:5]"
   ]
  },
  {
   "cell_type": "markdown",
   "metadata": {},
   "source": [
    "**Model 2** has also classified all the label correctly"
   ]
  },
  {
   "cell_type": "code",
   "execution_count": null,
   "metadata": {},
   "outputs": [],
   "source": []
  },
  {
   "cell_type": "code",
   "execution_count": 161,
   "metadata": {},
   "outputs": [],
   "source": [
    "# First 5 images model 3\n",
    "pred3 = model.predict(X_test[:5])"
   ]
  },
  {
   "cell_type": "code",
   "execution_count": 162,
   "metadata": {},
   "outputs": [
    {
     "name": "stdout",
     "output_type": "stream",
     "text": [
      "[0.09800743 0.9019925 ]\n",
      "[9.9976271e-01 2.3734049e-04]\n",
      "[0.07478247 0.92521757]\n",
      "[0.23426476 0.7657352 ]\n",
      "[0.99851674 0.00148332]\n"
     ]
    }
   ],
   "source": [
    "for num in pred3:\n",
    "    print(num)"
   ]
  },
  {
   "cell_type": "code",
   "execution_count": 163,
   "metadata": {},
   "outputs": [
    {
     "data": {
      "text/plain": [
       "array([[0., 1.],\n",
       "       [1., 0.],\n",
       "       [0., 1.],\n",
       "       [0., 1.],\n",
       "       [1., 0.]], dtype=float32)"
      ]
     },
     "execution_count": 163,
     "metadata": {},
     "output_type": "execute_result"
    }
   ],
   "source": [
    "y_test[:5]"
   ]
  },
  {
   "cell_type": "markdown",
   "metadata": {},
   "source": [
    "**Model 3** has also classfied the images corretly "
   ]
  },
  {
   "cell_type": "code",
   "execution_count": null,
   "metadata": {},
   "outputs": [],
   "source": []
  }
 ],
 "metadata": {
  "kernelspec": {
   "display_name": "Python 3",
   "language": "python",
   "name": "python3"
  },
  "language_info": {
   "codemirror_mode": {
    "name": "ipython",
    "version": 3
   },
   "file_extension": ".py",
   "mimetype": "text/x-python",
   "name": "python",
   "nbconvert_exporter": "python",
   "pygments_lexer": "ipython3",
   "version": "3.7.4"
  }
 },
 "nbformat": 4,
 "nbformat_minor": 2
}
